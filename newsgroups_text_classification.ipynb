{
 "cells": [
  {
   "cell_type": "code",
   "execution_count": 1,
   "metadata": {},
   "outputs": [],
   "source": [
    "import numpy as np\n",
    "from sklearn.datasets import fetch_20newsgroups\n",
    "\n",
    "newsgroups_train = fetch_20newsgroups(subset='train', shuffle=True)\n",
    "labels = newsgroups_train.target\n",
    "\n",
    "#newsgroups_train.target_names"
   ]
  },
  {
   "cell_type": "code",
   "execution_count": 2,
   "metadata": {},
   "outputs": [],
   "source": [
    "from sklearn.feature_extraction.text import TfidfVectorizer\n",
    "\n",
    "tfidf_vectorizer = TfidfVectorizer()\n",
    "X_train = tfidf_vectorizer.fit_transform(newsgroups_train.data)\n",
    "\n",
    "#X_train.shape"
   ]
  },
  {
   "cell_type": "code",
   "execution_count": 3,
   "metadata": {},
   "outputs": [],
   "source": [
    "from sklearn.pipeline import Pipeline\n",
    "from sklearn.linear_model import LogisticRegression\n",
    "from sklearn.naive_bayes import MultinomialNB\n",
    "\n",
    "log_pipeline = Pipeline([\n",
    "        ('vectorizer', TfidfVectorizer()),\n",
    "        ('classificator', LogisticRegression()),\n",
    "    ])\n",
    "\n",
    "nb_pipeline = Pipeline([\n",
    "        ('vectorizer', TfidfVectorizer()),\n",
    "        ('classificator', MultinomialNB()),\n",
    "    ])\n",
    "\n",
    "log_text_classificator = log_pipeline.fit(newsgroups_train.data, labels)\n",
    "nb_text_classificator = nb_pipeline.fit(newsgroups_train.data, labels)"
   ]
  },
  {
   "cell_type": "code",
   "execution_count": 4,
   "metadata": {},
   "outputs": [
    {
     "name": "stdout",
     "output_type": "stream",
     "text": [
      "Logistic Regression MSE: 2.74777777778\n",
      "Naive Bayes MSE        : 4.77333333333\n"
     ]
    }
   ],
   "source": [
    "from sklearn.metrics import mean_squared_error\n",
    "\n",
    "newsgroups_test = newsgroups_train.data[100:1000]\n",
    "labels_test = newsgroups_train.target[100:1000]\n",
    "\n",
    "nb_predicted = nb_text_classificator.predict(newsgroups_test)\n",
    "log_predicted = log_text_classificator.predict(newsgroups_test)\n",
    "\n",
    "log_lin_mse = mean_squared_error(labels_test, log_predicted)\n",
    "nb_lin_mse = mean_squared_error(labels_test, nb_predicted)\n",
    "\n",
    "print(\"Logistic Regression MSE:\", log_lin_mse)\n",
    "print(\"Naive Bayes MSE        :\", nb_lin_mse)"
   ]
  }
 ],
 "metadata": {
  "kernelspec": {
   "display_name": "Python 3",
   "language": "python",
   "name": "python3"
  },
  "language_info": {
   "codemirror_mode": {
    "name": "ipython",
    "version": 3
   },
   "file_extension": ".py",
   "mimetype": "text/x-python",
   "name": "python",
   "nbconvert_exporter": "python",
   "pygments_lexer": "ipython3",
   "version": "3.6.3"
  }
 },
 "nbformat": 4,
 "nbformat_minor": 2
}
